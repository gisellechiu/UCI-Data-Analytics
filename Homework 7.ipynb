{
 "cells": [
  {
   "cell_type": "code",
   "execution_count": 1,
   "metadata": {},
   "outputs": [],
   "source": [
    "import tweepy\n",
    "import json\n",
    "import pandas as pd\n",
    "import numpy as np\n",
    "from datetime import datetime\n",
    "import matplotlib.pyplot as plt\n",
    "from vaderSentiment.vaderSentiment import SentimentIntensityAnalyzer\n",
    "analyzer = SentimentIntensityAnalyzer()"
   ]
  },
  {
   "cell_type": "code",
   "execution_count": 2,
   "metadata": {},
   "outputs": [],
   "source": [
    "from config import (consumer_key, \n",
    "                    consumer_secret, \n",
    "                    access_token, \n",
    "                    access_token_secret)\n",
    "auth = tweepy.OAuthHandler(consumer_key, consumer_secret)\n",
    "auth.set_access_token(access_token, access_token_secret)\n",
    "api = tweepy.API(auth, parser=tweepy.parsers.JSONParser())"
   ]
  },
  {
   "cell_type": "code",
   "execution_count": 4,
   "metadata": {},
   "outputs": [],
   "source": [
    "\n",
    "target_users = [\"@BBCWorld\", \"@CBSNews\", \"@CNN\", \"@FoxNews\",\"@nytimes\"]\n",
    "\n",
    "\n",
    "outlets = []\n",
    "compound_list = []\n",
    "positive_list = []\n",
    "negative_list = []\n",
    "neutral_list = []\n",
    "tweet_counter = []\n",
    "\n",
    "for target in target_users:\n",
    "\n",
    "        public_tweets = api.user_timeline(target, count=100, result_type=\"recent\") \n",
    "        \n",
    "        tweet_number = 100\n",
    "\n",
    "        \n",
    "        for tweet in public_tweets: \n",
    "\n",
    "            \n",
    "            results = analyzer.polarity_scores(tweet['text'])\n",
    "            compound = results['compound']\n",
    "            pos = results['pos']\n",
    "            neu = results['neu']\n",
    "            neg = results['neg']\n",
    "            \n",
    "            tweet_number -= 1\n",
    "            \n",
    "            \n",
    "            \n",
    "            compound_list.append(compound)\n",
    "            positive_list.append(pos)\n",
    "            negative_list.append(neg)\n",
    "            neutral_list.append(neu)\n",
    "            outlets.append(target)\n",
    "            tweet_counter.append(tweet_number)\n",
    "            \n",
    "            sentiments = {\"User\": outlets,\n",
    "                          \"Date\": tweet[\"created_at\"],\n",
    "                          \"Compound\": compound_list,\n",
    "                          \"Positive\": positive_list,\n",
    "                          \"Negative\": neutral_list,\n",
    "                          \"Neutral\": negative_list,\n",
    "                         \"Tweet_Count\": tweet_counter}"
   ]
  },
  {
   "cell_type": "code",
   "execution_count": 5,
   "metadata": {},
   "outputs": [
    {
     "data": {
      "text/html": [
       "<div>\n",
       "<style scoped>\n",
       "    .dataframe tbody tr th:only-of-type {\n",
       "        vertical-align: middle;\n",
       "    }\n",
       "\n",
       "    .dataframe tbody tr th {\n",
       "        vertical-align: top;\n",
       "    }\n",
       "\n",
       "    .dataframe thead th {\n",
       "        text-align: right;\n",
       "    }\n",
       "</style>\n",
       "<table border=\"1\" class=\"dataframe\">\n",
       "  <thead>\n",
       "    <tr style=\"text-align: right;\">\n",
       "      <th></th>\n",
       "      <th>User</th>\n",
       "      <th>Date</th>\n",
       "      <th>Compound</th>\n",
       "      <th>Positive</th>\n",
       "      <th>Negative</th>\n",
       "      <th>Neutral</th>\n",
       "      <th>Tweet_Count</th>\n",
       "    </tr>\n",
       "  </thead>\n",
       "  <tbody>\n",
       "    <tr>\n",
       "      <th>0</th>\n",
       "      <td>@BBCWorld</td>\n",
       "      <td>Sat Sep 15 02:32:05 +0000 2018</td>\n",
       "      <td>-0.6369</td>\n",
       "      <td>0.000</td>\n",
       "      <td>0.656</td>\n",
       "      <td>0.344</td>\n",
       "      <td>99</td>\n",
       "    </tr>\n",
       "    <tr>\n",
       "      <th>1</th>\n",
       "      <td>@BBCWorld</td>\n",
       "      <td>Sat Sep 15 02:32:05 +0000 2018</td>\n",
       "      <td>-0.1531</td>\n",
       "      <td>0.000</td>\n",
       "      <td>0.814</td>\n",
       "      <td>0.186</td>\n",
       "      <td>98</td>\n",
       "    </tr>\n",
       "    <tr>\n",
       "      <th>2</th>\n",
       "      <td>@BBCWorld</td>\n",
       "      <td>Sat Sep 15 02:32:05 +0000 2018</td>\n",
       "      <td>-0.4767</td>\n",
       "      <td>0.000</td>\n",
       "      <td>0.659</td>\n",
       "      <td>0.341</td>\n",
       "      <td>97</td>\n",
       "    </tr>\n",
       "    <tr>\n",
       "      <th>3</th>\n",
       "      <td>@BBCWorld</td>\n",
       "      <td>Sat Sep 15 02:32:05 +0000 2018</td>\n",
       "      <td>0.0000</td>\n",
       "      <td>0.000</td>\n",
       "      <td>1.000</td>\n",
       "      <td>0.000</td>\n",
       "      <td>96</td>\n",
       "    </tr>\n",
       "    <tr>\n",
       "      <th>4</th>\n",
       "      <td>@BBCWorld</td>\n",
       "      <td>Sat Sep 15 02:32:05 +0000 2018</td>\n",
       "      <td>0.3400</td>\n",
       "      <td>0.211</td>\n",
       "      <td>0.789</td>\n",
       "      <td>0.000</td>\n",
       "      <td>95</td>\n",
       "    </tr>\n",
       "  </tbody>\n",
       "</table>\n",
       "</div>"
      ],
      "text/plain": [
       "        User                            Date  Compound  Positive  Negative  \\\n",
       "0  @BBCWorld  Sat Sep 15 02:32:05 +0000 2018   -0.6369     0.000     0.656   \n",
       "1  @BBCWorld  Sat Sep 15 02:32:05 +0000 2018   -0.1531     0.000     0.814   \n",
       "2  @BBCWorld  Sat Sep 15 02:32:05 +0000 2018   -0.4767     0.000     0.659   \n",
       "3  @BBCWorld  Sat Sep 15 02:32:05 +0000 2018    0.0000     0.000     1.000   \n",
       "4  @BBCWorld  Sat Sep 15 02:32:05 +0000 2018    0.3400     0.211     0.789   \n",
       "\n",
       "   Neutral  Tweet_Count  \n",
       "0    0.344           99  \n",
       "1    0.186           98  \n",
       "2    0.341           97  \n",
       "3    0.000           96  \n",
       "4    0.000           95  "
      ]
     },
     "execution_count": 5,
     "metadata": {},
     "output_type": "execute_result"
    }
   ],
   "source": [
    "sentiments_pd = pd.DataFrame.from_dict(sentiments)\n",
    "\n",
    "sentiments_pd.head()"
   ]
  },
  {
   "cell_type": "code",
   "execution_count": 6,
   "metadata": {},
   "outputs": [],
   "source": [
    "sentiments_pd.to_csv('sentiments.csv')"
   ]
  },
  {
   "cell_type": "code",
   "execution_count": 7,
   "metadata": {},
   "outputs": [
    {
     "data": {
      "text/html": [
       "<div>\n",
       "<style scoped>\n",
       "    .dataframe tbody tr th:only-of-type {\n",
       "        vertical-align: middle;\n",
       "    }\n",
       "\n",
       "    .dataframe tbody tr th {\n",
       "        vertical-align: top;\n",
       "    }\n",
       "\n",
       "    .dataframe thead th {\n",
       "        text-align: right;\n",
       "    }\n",
       "</style>\n",
       "<table border=\"1\" class=\"dataframe\">\n",
       "  <thead>\n",
       "    <tr style=\"text-align: right;\">\n",
       "      <th>User</th>\n",
       "      <th>@BBCWorld</th>\n",
       "      <th>@CBSNews</th>\n",
       "      <th>@CNN</th>\n",
       "      <th>@FoxNews</th>\n",
       "      <th>@nytimes</th>\n",
       "    </tr>\n",
       "    <tr>\n",
       "      <th>Tweet_Count</th>\n",
       "      <th></th>\n",
       "      <th></th>\n",
       "      <th></th>\n",
       "      <th></th>\n",
       "      <th></th>\n",
       "    </tr>\n",
       "  </thead>\n",
       "  <tbody>\n",
       "    <tr>\n",
       "      <th>0</th>\n",
       "      <td>0.0000</td>\n",
       "      <td>0.0000</td>\n",
       "      <td>-0.3612</td>\n",
       "      <td>-0.6597</td>\n",
       "      <td>0.7269</td>\n",
       "    </tr>\n",
       "    <tr>\n",
       "      <th>1</th>\n",
       "      <td>-0.5256</td>\n",
       "      <td>-0.6124</td>\n",
       "      <td>0.2263</td>\n",
       "      <td>0.0000</td>\n",
       "      <td>-0.1531</td>\n",
       "    </tr>\n",
       "    <tr>\n",
       "      <th>2</th>\n",
       "      <td>0.4588</td>\n",
       "      <td>0.4215</td>\n",
       "      <td>0.2023</td>\n",
       "      <td>0.0191</td>\n",
       "      <td>0.3400</td>\n",
       "    </tr>\n",
       "    <tr>\n",
       "      <th>3</th>\n",
       "      <td>0.0000</td>\n",
       "      <td>-0.2500</td>\n",
       "      <td>-0.2732</td>\n",
       "      <td>0.6435</td>\n",
       "      <td>0.0000</td>\n",
       "    </tr>\n",
       "    <tr>\n",
       "      <th>4</th>\n",
       "      <td>0.1280</td>\n",
       "      <td>0.5859</td>\n",
       "      <td>0.4019</td>\n",
       "      <td>0.0000</td>\n",
       "      <td>0.3612</td>\n",
       "    </tr>\n",
       "  </tbody>\n",
       "</table>\n",
       "</div>"
      ],
      "text/plain": [
       "User         @BBCWorld  @CBSNews    @CNN  @FoxNews  @nytimes\n",
       "Tweet_Count                                                 \n",
       "0               0.0000    0.0000 -0.3612   -0.6597    0.7269\n",
       "1              -0.5256   -0.6124  0.2263    0.0000   -0.1531\n",
       "2               0.4588    0.4215  0.2023    0.0191    0.3400\n",
       "3               0.0000   -0.2500 -0.2732    0.6435    0.0000\n",
       "4               0.1280    0.5859  0.4019    0.0000    0.3612"
      ]
     },
     "execution_count": 7,
     "metadata": {},
     "output_type": "execute_result"
    }
   ],
   "source": [
    "user_sentiments = sentiments_pd.pivot(index=\"Tweet_Count\", columns=\"User\", values=\"Compound\")\n",
    "user_sentiments.head()"
   ]
  },
  {
   "cell_type": "code",
   "execution_count": 8,
   "metadata": {},
   "outputs": [
    {
     "data": {
      "image/png": "[encoded data removed]",
      "text/plain": [
       "<Figure size 432x288 with 1 Axes>"
      ]
     },
     "metadata": {},
     "output_type": "display_data"
    }
   ],
   "source": [
    "x_values = np.arange(100)\n",
    "\n",
    "for user in target_users:\n",
    "    \n",
    "    plt.scatter(x_values, user_sentiments[user], marker=\"o\", alpha=1)\n",
    "\n",
    "\n",
    "\n",
    "plt.legend(loc='upper right', bbox_to_anchor=(1.5, 1))\n",
    "\n",
    "\n",
    "plt.title(f\"VADER Sentiment Analysis of Tweets for {target_users}\")\n",
    "plt.ylabel(\"Tweet Polarity\")\n",
    "plt.xlabel(\"Tweets Ago\")\n",
    "\n",
    "plt.savefig('news_sentiments_scatter.png')\n",
    "\n",
    "plt.show()"
   ]
  },
  {
   "cell_type": "code",
   "execution_count": 10,
   "metadata": {},
   "outputs": [
    {
     "data": {
      "text/plain": [
       "User\n",
       "@BBCWorld   -0.120087\n",
       "@CBSNews    -0.157407\n",
       "@CNN        -0.089240\n",
       "@FoxNews    -0.073907\n",
       "@nytimes     0.065276\n",
       "Name: Compound, dtype: float64"
      ]
     },
     "execution_count": 10,
     "metadata": {},
     "output_type": "execute_result"
    }
   ],
   "source": [
    "\n",
    "grouped_news = sentiments_pd.groupby('User')\n",
    "\n",
    "grouped_compound = grouped_news['Compound'].mean()\n",
    "\n",
    "grouped_compound"
   ]
  },
  {
   "cell_type": "code",
   "execution_count": 11,
   "metadata": {},
   "outputs": [
    {
     "data": {
      "image/png": "[encoded data removed]",
      "text/plain": [
       "<Figure size 432x288 with 1 Axes>"
      ]
     },
     "metadata": {},
     "output_type": "display_data"
    }
   ],
   "source": [
    "\n",
    "x_values = np.arange(len(target_users))\n",
    "\n",
    "plot_data = zip(x_values, target_users)\n",
    "\n",
    "for x, user in plot_data:\n",
    "    \n",
    "    y = grouped_compound[user]\n",
    "    \n",
    "    plt.bar(x, y)\n",
    "    plt.text(x, y/2, '{:.2}'.format(y),\n",
    "             horizontalalignment='center', color='black',\n",
    "             fontsize=13, weight='bold')\n",
    "\n",
    "\n",
    "plt.xticks(x_values, target_users)\n",
    "\n",
    "\n",
    "plt.title(f\"Sentiment Analysis of Tweets for {target_users}\")\n",
    "plt.ylabel(\"Tweet Polarity Average\")\n",
    "plt.xlabel(\"Twitter Account\")\n",
    "plt.savefig('bar.png')\n",
    "plt.show()"
   ]
  },
  {
   "cell_type": "code",
   "execution_count": null,
   "metadata": {},
   "outputs": [],
   "source": []
  },
  {
   "cell_type": "code",
   "execution_count": null,
   "metadata": {},
   "outputs": [],
   "source": []
  }
 ],
 "metadata": {
  "kernelspec": {
   "display_name": "Python [conda env:anaconda3]",
   "language": "python",
   "name": "conda-env-anaconda3-py"
  },
  "language_info": {
   "codemirror_mode": {
    "name": "ipython",
    "version": 3
   },
   "file_extension": ".py",
   "mimetype": "text/x-python",
   "name": "python",
   "nbconvert_exporter": "python",
   "pygments_lexer": "ipython3",
   "version": "3.6.5"
  }
 },
 "nbformat": 4,
 "nbformat_minor": 2
}
